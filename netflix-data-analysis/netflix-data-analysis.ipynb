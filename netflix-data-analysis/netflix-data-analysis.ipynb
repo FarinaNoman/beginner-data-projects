{
 "cells": [
  {
   "cell_type": "code",
   "execution_count": null,
   "id": "35dc3c61-45fa-4a92-986e-86da4b596675",
   "metadata": {},
   "outputs": [],
   "source": []
  }
 ],
 "metadata": {
  "kernelspec": {
   "display_name": "Python 3 (ipykernel)",
   "language": "python",
   "name": "python3"
  },
  "language_info": {
   "codemirror_mode": {
    "name": "ipython",
    "version": 3
   },
   "file_extension": ".py",
   "mimetype": "text/x-python",
   "name": "python",
   "nbconvert_exporter": "python",
   "pygments_lexer": "ipython3",
   "version": "3.12.6"
  }
 },
 "nbformat": 4,
 "nbformat_minor": 5
}
